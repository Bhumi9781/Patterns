{
 "cells": [
  {
   "cell_type": "code",
   "execution_count": 24,
   "id": "8419f72a-6714-4371-9242-76084d8f12b7",
   "metadata": {},
   "outputs": [
    {
     "name": "stdout",
     "output_type": "stream",
     "text": [
      "****\n",
      "****\n",
      "****\n",
      "****\n",
      "****\n"
     ]
    }
   ],
   "source": [
    "# * square pattern\n",
    "n = 5 \n",
    "i = 0\n",
    "while i < n:\n",
    "    m = 4\n",
    "    j = 0\n",
    "    while j < m:\n",
    "        print('*', end=\"\")\n",
    "        j += 1\n",
    "    print()\n",
    "    i += 1"
   ]
  },
  {
   "cell_type": "code",
   "execution_count": 29,
   "id": "e9c65f0c-9ce0-4301-83fc-25d100763797",
   "metadata": {},
   "outputs": [
    {
     "name": "stdout",
     "output_type": "stream",
     "text": [
      "5555\n",
      "5555\n",
      "5555\n",
      "5555\n",
      "5555\n"
     ]
    }
   ],
   "source": [
    "#  number square pattern\n",
    "n = 5 \n",
    "i = 0\n",
    "while i < n:\n",
    "    m = 4\n",
    "    j = 0\n",
    "    while j < m:\n",
    "        print('5', end=\"\")\n",
    "        j += 1\n",
    "    print()\n",
    "    i += 1"
   ]
  },
  {
   "cell_type": "code",
   "execution_count": 30,
   "id": "c90e9859-b593-4a50-8f5f-b52b01e3df3a",
   "metadata": {},
   "outputs": [
    {
     "name": "stdout",
     "output_type": "stream",
     "text": [
      "0000\n",
      "1111\n",
      "2222\n",
      "3333\n",
      "4444\n"
     ]
    }
   ],
   "source": [
    "#  number square pattern\n",
    "n = 5 \n",
    "i = 0\n",
    "while i < n:\n",
    "    m = 4\n",
    "    j = 0\n",
    "    while j < m:\n",
    "        print(i, end=\"\")\n",
    "        j += 1\n",
    "    print()\n",
    "    i += 1"
   ]
  },
  {
   "cell_type": "code",
   "execution_count": 31,
   "id": "1f44dea8-e7eb-425a-a6f4-c0bcb3c633db",
   "metadata": {},
   "outputs": [
    {
     "name": "stdout",
     "output_type": "stream",
     "text": [
      "0123\n",
      "0123\n",
      "0123\n",
      "0123\n",
      "0123\n"
     ]
    }
   ],
   "source": [
    "#  number square pattern\n",
    "n = 5 \n",
    "i = 0\n",
    "while i < n:\n",
    "    m = 4\n",
    "    j = 0\n",
    "    while j < m:\n",
    "        print(j, end=\"\")\n",
    "        j += 1\n",
    "    print()\n",
    "    i += 1"
   ]
  },
  {
   "cell_type": "code",
   "execution_count": 33,
   "id": "1553ad54-95bb-4cf2-a443-ced93e3dfc0e",
   "metadata": {},
   "outputs": [
    {
     "name": "stdout",
     "output_type": "stream",
     "text": [
      "0000\n",
      "1111\n",
      "2222\n",
      "3333\n",
      "4444\n"
     ]
    }
   ],
   "source": [
    "#  number square pattern\n",
    "n = 5 \n",
    "i = 0\n",
    "while i < n:\n",
    "    m = 4\n",
    "    j = 0\n",
    "    while j < m:\n",
    "        print(i, end=\"\")\n",
    "        j += 1\n",
    "    print()\n",
    "    i += 1"
   ]
  },
  {
   "cell_type": "code",
   "execution_count": 41,
   "id": "6646b78f-e532-496a-9774-ace08083e7e9",
   "metadata": {},
   "outputs": [
    {
     "name": "stdout",
     "output_type": "stream",
     "text": [
      "44444\n",
      "33333\n",
      "22222\n",
      "11111\n",
      "00000\n"
     ]
    }
   ],
   "source": [
    "i = 4\n",
    "n = 0\n",
    "while n <= i:\n",
    "    m = 5\n",
    "    j = 0\n",
    "    while j < m:\n",
    "        print(i, end=\"\")\n",
    "        j += 1\n",
    "    print()\n",
    "    i -= 1"
   ]
  },
  {
   "cell_type": "code",
   "execution_count": 44,
   "id": "d2d31735-4f4e-467b-a366-8270e6ee9b5c",
   "metadata": {},
   "outputs": [
    {
     "name": "stdout",
     "output_type": "stream",
     "text": [
      "4321\n",
      "4321\n",
      "4321\n",
      "4321\n",
      "4321\n"
     ]
    }
   ],
   "source": [
    "#  number square pattern\n",
    "n = 5 \n",
    "i = 0\n",
    "while i < n:\n",
    "    m = 0\n",
    "    j = 4\n",
    "    while j > m:\n",
    "        print(j, end=\"\")\n",
    "        j -= 1\n",
    "    print()\n",
    "    i += 1"
   ]
  },
  {
   "cell_type": "code",
   "execution_count": 56,
   "id": "1979c85f-d435-43d4-946e-75f23097398d",
   "metadata": {},
   "outputs": [
    {
     "name": "stdout",
     "output_type": "stream",
     "text": [
      "0\n",
      "01\n",
      "012\n",
      "0123\n",
      "01234\n",
      "012345\n",
      "0123456\n"
     ]
    }
   ],
   "source": [
    "i = 1\n",
    "n = 8\n",
    "while i < n:\n",
    "    j = 0\n",
    "    m = 5\n",
    "    while j < i:\n",
    "        print(j, end=\"\")\n",
    "        j += 1\n",
    "    print()\n",
    "    i += 1"
   ]
  },
  {
   "cell_type": "code",
   "execution_count": 10,
   "id": "a91d1ce0-a25c-46e8-b057-405e899ea328",
   "metadata": {},
   "outputs": [
    {
     "name": "stdout",
     "output_type": "stream",
     "text": [
      "012345\n",
      " 012345\n",
      "  012345\n",
      "   012345\n",
      "    012345\n",
      "     012345\n"
     ]
    }
   ],
   "source": [
    "# Rhombus Star pattern\n",
    "i = 0\n",
    "n = 5\n",
    "while n >= i:\n",
    "    j = 0\n",
    "    m = 5 \n",
    "    while j < i:\n",
    "        print(\" \", end = \"\")\n",
    "        j += 1    \n",
    "    k = 0\n",
    "    o = 6 \n",
    "    while k < o:\n",
    "        print(k, end=\"\")\n",
    "        k += 1\n",
    "    print()\n",
    "    i += 1"
   ]
  },
  {
   "cell_type": "code",
   "execution_count": 8,
   "id": "a540c835-6e8f-48e1-99ae-d880cb2d0baa",
   "metadata": {},
   "outputs": [
    {
     "name": "stdout",
     "output_type": "stream",
     "text": [
      "     012345\n",
      "    012345\n",
      "   012345\n",
      "  012345\n",
      " 012345\n",
      "012345\n"
     ]
    }
   ],
   "source": [
    "# Mirrored Rhombus Star Pattern\n",
    "i = 5\n",
    "n = 0\n",
    "while i >= n:\n",
    "    j = 0\n",
    "    m = 5 \n",
    "    while j < i:\n",
    "        print(\" \", end = \"\")\n",
    "        j += 1    \n",
    "    k = 0\n",
    "    o = 6 \n",
    "    while k < o:\n",
    "        print(k, end=\"\")\n",
    "        k += 1\n",
    "    print()\n",
    "    i -= 1"
   ]
  },
  {
   "cell_type": "code",
   "execution_count": 78,
   "id": "2c2a82f6-8e8e-4361-b988-1f7703d1f1be",
   "metadata": {},
   "outputs": [
    {
     "name": "stdout",
     "output_type": "stream",
     "text": [
      "*********\n",
      "*       *\n",
      "*       *\n",
      "*       *\n",
      "*       *\n",
      "*********\n"
     ]
    }
   ],
   "source": [
    "n = 5\n",
    "i = 0\n",
    "while i <=n:\n",
    "    m = 8\n",
    "    j = 0\n",
    "    while j <= m:\n",
    "        if (i==0) or (i==n) or (j==0) or (j ==m):\n",
    "            print(\"*\" , end=\"\")\n",
    "        else:\n",
    "            print(\" \", end=\"\")\n",
    "        j += 1\n",
    "    print()\n",
    "    i += 1"
   ]
  },
  {
   "cell_type": "code",
   "execution_count": 1,
   "id": "cb3f930f-38e9-4cc8-a1e0-3067b75d380b",
   "metadata": {},
   "outputs": [
    {
     "name": "stdout",
     "output_type": "stream",
     "text": [
      "\n",
      "*\n",
      "**\n",
      "***\n",
      "****\n",
      "*****\n",
      "******\n",
      "*******\n",
      "********\n"
     ]
    }
   ],
   "source": [
    "# Triangle Star pattern\n",
    "i = 0\n",
    "n = 9\n",
    "while i < n:\n",
    "    j = 0\n",
    "    m = 5 \n",
    "    while j < i:\n",
    "        print(\"*\", end = \"\")\n",
    "        j += 1    \n",
    "    print()\n",
    "    i += 1"
   ]
  },
  {
   "cell_type": "code",
   "execution_count": 3,
   "id": "0b853944-c352-4a0f-bf94-608951b7bbf1",
   "metadata": {},
   "outputs": [
    {
     "name": "stdout",
     "output_type": "stream",
     "text": [
      "*********\n",
      "********\n",
      "*******\n",
      "******\n",
      "*****\n",
      "****\n",
      "***\n",
      "**\n",
      "*\n",
      "\n"
     ]
    }
   ],
   "source": [
    "# Inverted Triangle Star pattern\n",
    "i = 9\n",
    "n = 0\n",
    "while i >= n:\n",
    "    j = 0\n",
    "    m = 5 \n",
    "    while j < i:\n",
    "        print(\"*\", end = \"\")\n",
    "        j += 1    \n",
    "    print()\n",
    "    i -= 1"
   ]
  },
  {
   "cell_type": "code",
   "execution_count": 12,
   "id": "a464110d-8d05-4d36-8b3c-373ab2dfbdea",
   "metadata": {},
   "outputs": [
    {
     "name": "stdout",
     "output_type": "stream",
     "text": [
      "    * \n",
      "   * * \n",
      "  * * * \n",
      " * * * * \n",
      "* * * * * \n"
     ]
    }
   ],
   "source": [
    "# Pyramid Pattern\n",
    "i = 1\n",
    "n = 5\n",
    "while n >= i:\n",
    "    j = 5 \n",
    "    while j > i:\n",
    "        print(\" \", end = \"\")\n",
    "        j -= 1    \n",
    "    k = 1\n",
    "    while k <= i:\n",
    "        print(\"*\", end=\" \")\n",
    "        k += 1\n",
    "\n",
    "    print()\n",
    "    i += 1"
   ]
  },
  {
   "cell_type": "code",
   "execution_count": 14,
   "id": "37cc24b8-e016-4547-ab8f-31f706b8d42e",
   "metadata": {},
   "outputs": [
    {
     "name": "stdout",
     "output_type": "stream",
     "text": [
      "* * * * * \n",
      " * * * * \n",
      "  * * * \n",
      "   * * \n",
      "    * \n",
      "     \n"
     ]
    }
   ],
   "source": [
    "n = 5\n",
    "i = 0\n",
    "while i <= n:\n",
    "    j = 0\n",
    "    while j < i :\n",
    "        print(\" \", end=\"\")\n",
    "        j+= 1\n",
    "    k = 0 \n",
    "    while k < n-i:\n",
    "        print(\"*\", end = \" \")\n",
    "        k += 1\n",
    "    print()\n",
    "    i += 1  "
   ]
  },
  {
   "cell_type": "code",
   "execution_count": 16,
   "id": "763257dd-cbb0-421f-8d29-5d048515ceb1",
   "metadata": {},
   "outputs": [
    {
     "name": "stdout",
     "output_type": "stream",
     "text": [
      " *********\n",
      "  *******\n",
      "   *****\n",
      "    ***\n",
      "     *\n"
     ]
    }
   ],
   "source": [
    "#inverse pyramid pattern\n",
    "n = 5\n",
    "i = 1\n",
    "while i <= n:\n",
    "    j = 0\n",
    "    while j <=i-1:\n",
    "        print(\" \", end=\"\")\n",
    "        j+= 1\n",
    "    \n",
    "    k = 0\n",
    "    while k <(n-i)*2+1:\n",
    "        print(\"*\", end=\"\")\n",
    "        k += 1\n",
    "    \n",
    "    print()\n",
    "    i += 1"
   ]
  },
  {
   "cell_type": "code",
   "execution_count": 18,
   "id": "cbe810b2-0828-4137-87a5-d5da9f169500",
   "metadata": {},
   "outputs": [
    {
     "name": "stdout",
     "output_type": "stream",
     "text": [
      "     *\n",
      "    * *\n",
      "   *   *\n",
      "  *     *\n",
      " *********\n"
     ]
    }
   ],
   "source": [
    "#Hollow Pyramid Star Pattern\n",
    "n = 5 \n",
    "i = 0\n",
    "while i < n:\n",
    "    j = 0\n",
    "    while j < n-i:\n",
    "        print(' ', end=\"\")\n",
    "        j += 1\n",
    "\n",
    "    k = 0\n",
    "    while k < (i+1)*2-1:\n",
    "        if k == 0 or k+1 == (i+1)*2-1 or i == n-1:\n",
    "            print(\"*\", end=\"\")\n",
    "        else:\n",
    "            print(\" \", end=\"\")\n",
    "        k += 1\n",
    "    print()\n",
    "    i += 1"
   ]
  },
  {
   "cell_type": "code",
   "execution_count": 20,
   "id": "d6a4a724-5215-45ea-8511-7830b1fbabc1",
   "metadata": {},
   "outputs": [
    {
     "name": "stdout",
     "output_type": "stream",
     "text": [
      " *******\n",
      "  *   *\n",
      "   * *\n",
      "    *\n",
      "     \n"
     ]
    }
   ],
   "source": [
    "i = 1\n",
    "n = 5\n",
    "while i <= n:\n",
    "    j = 0 \n",
    "    while j<i:\n",
    "        print(\" \", end = \"\")\n",
    "        j+=1\n",
    "    k = 0\n",
    "    while k < (n-i)*2-1:\n",
    "        if i == 1 or k == 0  or k ==(n-i)*2-2:\n",
    "            print(\"*\", end = \"\")\n",
    "        else:\n",
    "            print(\" \",end = \"\")\n",
    "        k += 1\n",
    "    print()\n",
    "    i += 1"
   ]
  },
  {
   "cell_type": "code",
   "execution_count": null,
   "id": "29ea04cf-5282-48e8-8771-8af75685c11c",
   "metadata": {},
   "outputs": [],
   "source": []
  }
 ],
 "metadata": {
  "kernelspec": {
   "display_name": "Python [conda env:base] *",
   "language": "python",
   "name": "conda-base-py"
  },
  "language_info": {
   "codemirror_mode": {
    "name": "ipython",
    "version": 3
   },
   "file_extension": ".py",
   "mimetype": "text/x-python",
   "name": "python",
   "nbconvert_exporter": "python",
   "pygments_lexer": "ipython3",
   "version": "3.12.7"
  }
 },
 "nbformat": 4,
 "nbformat_minor": 5
}
